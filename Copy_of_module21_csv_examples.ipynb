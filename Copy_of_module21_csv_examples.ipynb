{
  "cells": [
    {
      "cell_type": "markdown",
      "metadata": {
        "id": "view-in-github",
        "colab_type": "text"
      },
      "source": [
        "<a href=\"https://colab.research.google.com/github/Yaswanthreddy23/HDS5210_InClassYaswanth/blob/master/Copy_of_module21_csv_examples.ipynb\" target=\"_parent\"><img src=\"https://colab.research.google.com/assets/colab-badge.svg\" alt=\"Open In Colab\"/></a>"
      ]
    },
    {
      "cell_type": "markdown",
      "metadata": {
        "id": "96TakdtmzXjx"
      },
      "source": [
        "# Reading CSV Manually\n",
        "\n",
        "Data file from https://www2.census.gov/programs-surveys/popest/datasets/2010-2018/state/detail/"
      ]
    },
    {
      "cell_type": "code",
      "execution_count": null,
      "metadata": {
        "id": "rQUcqFCdzXjy",
        "outputId": "d191ec29-e3d8-4d68-b1f8-8db7f34142b8",
        "colab": {
          "base_uri": "https://localhost:8080/"
        }
      },
      "outputs": [
        {
          "output_type": "stream",
          "name": "stdout",
          "text": [
            "SUMLEV,REGION,DIVISION,STATE,NAME,POPESTIMATE2018,POPEST18PLUS2018,PCNT_POPEST18PLUS\r\n",
            "010,0,0,00,United States,327167434,253768092,77.6\r\n",
            "040,3,6,01,Alabama,4887871,3798031,77.7\r\n",
            "040,4,9,02,Alaska,737438,553622,75.1\r\n",
            "040,4,8,04,Arizona,7171646,5528989,77.1\r\n",
            "040,3,7,05,Arkansas,3013825,2310645,76.7\r\n",
            "040,4,9,06,California,39557045,30567090,77.3\r\n",
            "040,4,8,08,Colorado,5695564,4430329,77.8\r\n",
            "040,1,1,09,Connecticut,3572665,2837472,79.4\r\n",
            "040,3,5,10,Delaware,967171,763555,78.9\r\n"
          ]
        }
      ],
      "source": [
        "%%bash\n",
        "head \"/content/SCPRC-EST2018-18+POP-RES.csv\""
      ]
    },
    {
      "cell_type": "markdown",
      "metadata": {
        "id": "zeD0O-8jzXjz"
      },
      "source": [
        "Hard way"
      ]
    },
    {
      "cell_type": "code",
      "execution_count": null,
      "metadata": {
        "id": "wvJXZq90zXj0"
      },
      "outputs": [],
      "source": [
        "CSV_FILE=\"/content/SCPRC-EST2018-18+POP-RES.csv\""
      ]
    },
    {
      "cell_type": "code",
      "execution_count": null,
      "metadata": {
        "id": "jK-JuW4czXj0",
        "outputId": "d43c66e0-ff8c-4e92-d124-2fc65624c7d6",
        "colab": {
          "base_uri": "https://localhost:8080/"
        }
      },
      "outputs": [
        {
          "output_type": "stream",
          "name": "stdout",
          "text": [
            "['SUMLEV', 'REGION', 'DIVISION', 'STATE', 'NAME', 'POPESTIMATE2018', 'POPEST18PLUS2018', 'PCNT_POPEST18PLUS\\n']\n"
          ]
        }
      ],
      "source": [
        "with open(CSV_FILE) as csv:\n",
        "    line = csv.readline()\n",
        "    values = line.split(\",\")\n",
        "    print(values)"
      ]
    },
    {
      "cell_type": "code",
      "execution_count": null,
      "metadata": {
        "id": "0p9loEHozXj0",
        "outputId": "298165b6-7cc8-4141-f4c1-42ee4c5c09b2",
        "colab": {
          "base_uri": "https://localhost:8080/"
        }
      },
      "outputs": [
        {
          "output_type": "stream",
          "name": "stdout",
          "text": [
            "['SUMLEV', 'REGION', 'DIVISION', 'STATE', 'NAME', 'POPESTIMATE2018', 'POPEST18PLUS2018', 'PCNT_POPEST18PLUS']\n"
          ]
        }
      ],
      "source": [
        "with open(CSV_FILE) as csv:\n",
        "    line = csv.readline().strip()\n",
        "    values = line.split(\",\")\n",
        "    print(values)"
      ]
    },
    {
      "cell_type": "code",
      "execution_count": null,
      "metadata": {
        "id": "Bey7_i5qzXj1",
        "outputId": "56da4682-c960-4606-ccff-855cc87b63aa",
        "colab": {
          "base_uri": "https://localhost:8080/"
        }
      },
      "outputs": [
        {
          "output_type": "stream",
          "name": "stdout",
          "text": [
            "['SUMLEV', 'REGION', 'DIVISION', 'STATE', 'NAME', 'POPESTIMATE2018', 'POPEST18PLUS2018', 'PCNT_POPEST18PLUS']\n",
            "['010', '0', '0', '00', 'United States', '327167434', '253768092', '77.6']\n",
            "['040', '3', '6', '01', 'Alabama', '4887871', '3798031', '77.7']\n",
            "['040', '4', '9', '02', 'Alaska', '737438', '553622', '75.1']\n",
            "['040', '4', '8', '04', 'Arizona', '7171646', '5528989', '77.1']\n",
            "['040', '3', '7', '05', 'Arkansas', '3013825', '2310645', '76.7']\n",
            "['040', '4', '9', '06', 'California', '39557045', '30567090', '77.3']\n",
            "['040', '4', '8', '08', 'Colorado', '5695564', '4430329', '77.8']\n",
            "['040', '1', '1', '09', 'Connecticut', '3572665', '2837472', '79.4']\n",
            "['040', '3', '5', '10', 'Delaware', '967171', '763555', '78.9']\n",
            "['040', '3', '5', '11', 'District of Columbia', '702455', '574961', '81.9']\n"
          ]
        }
      ],
      "source": [
        "with open(CSV_FILE) as csv:\n",
        "    counter = 0\n",
        "    max_lines = 10\n",
        "    for line in csv:\n",
        "        values = line.strip().split(\",\")\n",
        "        print(values)\n",
        "        counter += 1\n",
        "        if counter > max_lines:\n",
        "            break"
      ]
    },
    {
      "cell_type": "markdown",
      "metadata": {
        "id": "XgzerU4QzXj1"
      },
      "source": [
        "# Using the CSV Module"
      ]
    },
    {
      "cell_type": "code",
      "execution_count": null,
      "metadata": {
        "id": "taxZ5fmrzXj1"
      },
      "outputs": [],
      "source": [
        "import csv"
      ]
    },
    {
      "cell_type": "code",
      "execution_count": null,
      "metadata": {
        "id": "GBxWKmDbzXj2",
        "outputId": "7dd4f6c4-753f-4c91-d679-636526ca969d",
        "colab": {
          "base_uri": "https://localhost:8080/"
        }
      },
      "outputs": [
        {
          "output_type": "stream",
          "name": "stdout",
          "text": [
            "['SUMLEV', 'REGION', 'DIVISION', 'STATE', 'NAME', 'POPESTIMATE2018', 'POPEST18PLUS2018', 'PCNT_POPEST18PLUS']\n",
            "['010', '0', '0', '00', 'United States', '327167434', '253768092', '77.6']\n",
            "['040', '3', '6', '01', 'Alabama', '4887871', '3798031', '77.7']\n",
            "['040', '4', '9', '02', 'Alaska', '737438', '553622', '75.1']\n",
            "['040', '4', '8', '04', 'Arizona', '7171646', '5528989', '77.1']\n",
            "['040', '3', '7', '05', 'Arkansas', '3013825', '2310645', '76.7']\n",
            "['040', '4', '9', '06', 'California', '39557045', '30567090', '77.3']\n",
            "['040', '4', '8', '08', 'Colorado', '5695564', '4430329', '77.8']\n",
            "['040', '1', '1', '09', 'Connecticut', '3572665', '2837472', '79.4']\n",
            "['040', '3', '5', '10', 'Delaware', '967171', '763555', '78.9']\n",
            "['040', '3', '5', '11', 'District of Columbia', '702455', '574961', '81.9']\n"
          ]
        }
      ],
      "source": [
        "with open(CSV_FILE) as f:\n",
        "    csv_reader = csv.reader(f)\n",
        "    counter = 0\n",
        "    max_lines = 10\n",
        "    for row in csv_reader:\n",
        "        print(row)\n",
        "        counter += 1\n",
        "        if counter > max_lines:\n",
        "            break"
      ]
    },
    {
      "cell_type": "code",
      "execution_count": null,
      "metadata": {
        "id": "KnYBxIghzXj2",
        "outputId": "0bddc854-d6c2-4179-9d1a-59b5cd077503",
        "colab": {
          "base_uri": "https://localhost:8080/"
        }
      },
      "outputs": [
        {
          "output_type": "stream",
          "name": "stdout",
          "text": [
            "Help on built-in function reader in module _csv:\n",
            "\n",
            "reader(...)\n",
            "    csv_reader = reader(iterable [, dialect='excel']\n",
            "                            [optional keyword args])\n",
            "        for row in csv_reader:\n",
            "            process(row)\n",
            "    \n",
            "    The \"iterable\" argument can be any object that returns a line\n",
            "    of input for each iteration, such as a file object or a list.  The\n",
            "    optional \"dialect\" parameter is discussed below.  The function\n",
            "    also accepts optional keyword arguments which override settings\n",
            "    provided by the dialect.\n",
            "    \n",
            "    The returned object is an iterator.  Each iteration returns a row\n",
            "    of the CSV file (which can span multiple input lines).\n",
            "\n"
          ]
        }
      ],
      "source": [
        "help(csv.reader)"
      ]
    },
    {
      "cell_type": "code",
      "execution_count": null,
      "metadata": {
        "id": "Aq7ZYdjMzXj2",
        "outputId": "9b47c951-7181-4c29-ea3a-ab4bf5d98b5d",
        "colab": {
          "base_uri": "https://localhost:8080/"
        }
      },
      "outputs": [
        {
          "output_type": "stream",
          "name": "stdout",
          "text": [
            "SUMLEV,REGION,DIVISION,STATE,NAME,POPESTIMATE2018,POPEST18PLUS2018,PCNT_POPEST18PLUS\r\n",
            "010,0,0,00,United States,327167434,253768092,77.6\r\n",
            "040,3,6,01,Alabama,4887871,3798031,77.7\r\n",
            "040,4,9,02,Alaska,737438,553622,75.1\r\n",
            "040,4,8,04,Arizona,7171646,5528989,77.1\r\n",
            "040,3,7,05,Arkansas,3013825,2310645,76.7\r\n",
            "040,4,9,06,California,39557045,30567090,77.3\r\n",
            "040,4,8,08,Colorado,5695564,4430329,77.8\r\n",
            "040,1,1,09,Connecticut,3572665,2837472,79.4\r\n",
            "040,3,5,10,Delaware,967171,763555,78.9\r\n"
          ]
        }
      ],
      "source": [
        "%%bash\n",
        "head \"/content/SCPRC-EST2018-18+POP-RES.csv\""
      ]
    },
    {
      "cell_type": "code",
      "execution_count": null,
      "metadata": {
        "id": "N6u_pNR6zXj3"
      },
      "outputs": [],
      "source": [
        "PSV_FILE=\"/content/SCPRC-EST2018-18+POP-RES.csv\""
      ]
    },
    {
      "cell_type": "code",
      "execution_count": null,
      "metadata": {
        "id": "4y4DkPeVzXj3",
        "outputId": "9b173611-3eb1-4f00-a161-1ec4a4c40863",
        "colab": {
          "base_uri": "https://localhost:8080/"
        }
      },
      "outputs": [
        {
          "output_type": "stream",
          "name": "stdout",
          "text": [
            "['SUMLEV,REGION,DIVISION,STATE,NAME,POPESTIMATE2018,POPEST18PLUS2018,PCNT_POPEST18PLUS']\n",
            "['010,0,0,00,United States,327167434,253768092,77.6']\n",
            "['040,3,6,01,Alabama,4887871,3798031,77.7']\n",
            "['040,4,9,02,Alaska,737438,553622,75.1']\n",
            "['040,4,8,04,Arizona,7171646,5528989,77.1']\n",
            "['040,3,7,05,Arkansas,3013825,2310645,76.7']\n",
            "['040,4,9,06,California,39557045,30567090,77.3']\n",
            "['040,4,8,08,Colorado,5695564,4430329,77.8']\n",
            "['040,1,1,09,Connecticut,3572665,2837472,79.4']\n",
            "['040,3,5,10,Delaware,967171,763555,78.9']\n",
            "['040,3,5,11,District of Columbia,702455,574961,81.9']\n"
          ]
        }
      ],
      "source": [
        "import csv\n",
        "with open(PSV_FILE) as f:\n",
        "    csv_reader = csv.reader(f,delimiter='|')\n",
        "    counter = 0\n",
        "    max_lines = 10\n",
        "    for row in csv_reader:\n",
        "        print(row)\n",
        "        counter += 1\n",
        "        if counter > max_lines:\n",
        "            break"
      ]
    },
    {
      "cell_type": "markdown",
      "metadata": {
        "id": "nZPs5_8uzXj3"
      },
      "source": [
        "# Using Pandas\n",
        "\n",
        "Note that we typically import pandas as pd, giving it a shorter alias name."
      ]
    },
    {
      "cell_type": "code",
      "execution_count": null,
      "metadata": {
        "id": "SNYBzeP0zXj3"
      },
      "outputs": [],
      "source": [
        "import pandas as pd"
      ]
    },
    {
      "cell_type": "code",
      "execution_count": null,
      "metadata": {
        "id": "d0oST-bFzXj3",
        "outputId": "d7fe6235-93a2-4226-b3d4-fdf3ed2133f0",
        "colab": {
          "base_uri": "https://localhost:8080/",
          "height": 206
        }
      },
      "outputs": [
        {
          "output_type": "execute_result",
          "data": {
            "text/plain": [
              "   SUMLEV REGION DIVISION  STATE           NAME  POPESTIMATE2018  \\\n",
              "0      10      0        0      0  United States        327167434   \n",
              "1      40      3        6      1        Alabama          4887871   \n",
              "2      40      4        9      2         Alaska           737438   \n",
              "3      40      4        8      4        Arizona          7171646   \n",
              "4      40      3        7      5       Arkansas          3013825   \n",
              "\n",
              "   POPEST18PLUS2018  PCNT_POPEST18PLUS  \n",
              "0         253768092               77.6  \n",
              "1           3798031               77.7  \n",
              "2            553622               75.1  \n",
              "3           5528989               77.1  \n",
              "4           2310645               76.7  "
            ],
            "text/html": [
              "\n",
              "  <div id=\"df-fa6b97df-700e-4e42-8630-f46464883b73\" class=\"colab-df-container\">\n",
              "    <div>\n",
              "<style scoped>\n",
              "    .dataframe tbody tr th:only-of-type {\n",
              "        vertical-align: middle;\n",
              "    }\n",
              "\n",
              "    .dataframe tbody tr th {\n",
              "        vertical-align: top;\n",
              "    }\n",
              "\n",
              "    .dataframe thead th {\n",
              "        text-align: right;\n",
              "    }\n",
              "</style>\n",
              "<table border=\"1\" class=\"dataframe\">\n",
              "  <thead>\n",
              "    <tr style=\"text-align: right;\">\n",
              "      <th></th>\n",
              "      <th>SUMLEV</th>\n",
              "      <th>REGION</th>\n",
              "      <th>DIVISION</th>\n",
              "      <th>STATE</th>\n",
              "      <th>NAME</th>\n",
              "      <th>POPESTIMATE2018</th>\n",
              "      <th>POPEST18PLUS2018</th>\n",
              "      <th>PCNT_POPEST18PLUS</th>\n",
              "    </tr>\n",
              "  </thead>\n",
              "  <tbody>\n",
              "    <tr>\n",
              "      <th>0</th>\n",
              "      <td>10</td>\n",
              "      <td>0</td>\n",
              "      <td>0</td>\n",
              "      <td>0</td>\n",
              "      <td>United States</td>\n",
              "      <td>327167434</td>\n",
              "      <td>253768092</td>\n",
              "      <td>77.6</td>\n",
              "    </tr>\n",
              "    <tr>\n",
              "      <th>1</th>\n",
              "      <td>40</td>\n",
              "      <td>3</td>\n",
              "      <td>6</td>\n",
              "      <td>1</td>\n",
              "      <td>Alabama</td>\n",
              "      <td>4887871</td>\n",
              "      <td>3798031</td>\n",
              "      <td>77.7</td>\n",
              "    </tr>\n",
              "    <tr>\n",
              "      <th>2</th>\n",
              "      <td>40</td>\n",
              "      <td>4</td>\n",
              "      <td>9</td>\n",
              "      <td>2</td>\n",
              "      <td>Alaska</td>\n",
              "      <td>737438</td>\n",
              "      <td>553622</td>\n",
              "      <td>75.1</td>\n",
              "    </tr>\n",
              "    <tr>\n",
              "      <th>3</th>\n",
              "      <td>40</td>\n",
              "      <td>4</td>\n",
              "      <td>8</td>\n",
              "      <td>4</td>\n",
              "      <td>Arizona</td>\n",
              "      <td>7171646</td>\n",
              "      <td>5528989</td>\n",
              "      <td>77.1</td>\n",
              "    </tr>\n",
              "    <tr>\n",
              "      <th>4</th>\n",
              "      <td>40</td>\n",
              "      <td>3</td>\n",
              "      <td>7</td>\n",
              "      <td>5</td>\n",
              "      <td>Arkansas</td>\n",
              "      <td>3013825</td>\n",
              "      <td>2310645</td>\n",
              "      <td>76.7</td>\n",
              "    </tr>\n",
              "  </tbody>\n",
              "</table>\n",
              "</div>\n",
              "    <div class=\"colab-df-buttons\">\n",
              "\n",
              "  <div class=\"colab-df-container\">\n",
              "    <button class=\"colab-df-convert\" onclick=\"convertToInteractive('df-fa6b97df-700e-4e42-8630-f46464883b73')\"\n",
              "            title=\"Convert this dataframe to an interactive table.\"\n",
              "            style=\"display:none;\">\n",
              "\n",
              "  <svg xmlns=\"http://www.w3.org/2000/svg\" height=\"24px\" viewBox=\"0 -960 960 960\">\n",
              "    <path d=\"M120-120v-720h720v720H120Zm60-500h600v-160H180v160Zm220 220h160v-160H400v160Zm0 220h160v-160H400v160ZM180-400h160v-160H180v160Zm440 0h160v-160H620v160ZM180-180h160v-160H180v160Zm440 0h160v-160H620v160Z\"/>\n",
              "  </svg>\n",
              "    </button>\n",
              "\n",
              "  <style>\n",
              "    .colab-df-container {\n",
              "      display:flex;\n",
              "      gap: 12px;\n",
              "    }\n",
              "\n",
              "    .colab-df-convert {\n",
              "      background-color: #E8F0FE;\n",
              "      border: none;\n",
              "      border-radius: 50%;\n",
              "      cursor: pointer;\n",
              "      display: none;\n",
              "      fill: #1967D2;\n",
              "      height: 32px;\n",
              "      padding: 0 0 0 0;\n",
              "      width: 32px;\n",
              "    }\n",
              "\n",
              "    .colab-df-convert:hover {\n",
              "      background-color: #E2EBFA;\n",
              "      box-shadow: 0px 1px 2px rgba(60, 64, 67, 0.3), 0px 1px 3px 1px rgba(60, 64, 67, 0.15);\n",
              "      fill: #174EA6;\n",
              "    }\n",
              "\n",
              "    .colab-df-buttons div {\n",
              "      margin-bottom: 4px;\n",
              "    }\n",
              "\n",
              "    [theme=dark] .colab-df-convert {\n",
              "      background-color: #3B4455;\n",
              "      fill: #D2E3FC;\n",
              "    }\n",
              "\n",
              "    [theme=dark] .colab-df-convert:hover {\n",
              "      background-color: #434B5C;\n",
              "      box-shadow: 0px 1px 3px 1px rgba(0, 0, 0, 0.15);\n",
              "      filter: drop-shadow(0px 1px 2px rgba(0, 0, 0, 0.3));\n",
              "      fill: #FFFFFF;\n",
              "    }\n",
              "  </style>\n",
              "\n",
              "    <script>\n",
              "      const buttonEl =\n",
              "        document.querySelector('#df-fa6b97df-700e-4e42-8630-f46464883b73 button.colab-df-convert');\n",
              "      buttonEl.style.display =\n",
              "        google.colab.kernel.accessAllowed ? 'block' : 'none';\n",
              "\n",
              "      async function convertToInteractive(key) {\n",
              "        const element = document.querySelector('#df-fa6b97df-700e-4e42-8630-f46464883b73');\n",
              "        const dataTable =\n",
              "          await google.colab.kernel.invokeFunction('convertToInteractive',\n",
              "                                                    [key], {});\n",
              "        if (!dataTable) return;\n",
              "\n",
              "        const docLinkHtml = 'Like what you see? Visit the ' +\n",
              "          '<a target=\"_blank\" href=https://colab.research.google.com/notebooks/data_table.ipynb>data table notebook</a>'\n",
              "          + ' to learn more about interactive tables.';\n",
              "        element.innerHTML = '';\n",
              "        dataTable['output_type'] = 'display_data';\n",
              "        await google.colab.output.renderOutput(dataTable, element);\n",
              "        const docLink = document.createElement('div');\n",
              "        docLink.innerHTML = docLinkHtml;\n",
              "        element.appendChild(docLink);\n",
              "      }\n",
              "    </script>\n",
              "  </div>\n",
              "\n",
              "\n",
              "<div id=\"df-29b56dbd-a69a-47b5-8b06-b9183c7792c5\">\n",
              "  <button class=\"colab-df-quickchart\" onclick=\"quickchart('df-29b56dbd-a69a-47b5-8b06-b9183c7792c5')\"\n",
              "            title=\"Suggest charts\"\n",
              "            style=\"display:none;\">\n",
              "\n",
              "<svg xmlns=\"http://www.w3.org/2000/svg\" height=\"24px\"viewBox=\"0 0 24 24\"\n",
              "     width=\"24px\">\n",
              "    <g>\n",
              "        <path d=\"M19 3H5c-1.1 0-2 .9-2 2v14c0 1.1.9 2 2 2h14c1.1 0 2-.9 2-2V5c0-1.1-.9-2-2-2zM9 17H7v-7h2v7zm4 0h-2V7h2v10zm4 0h-2v-4h2v4z\"/>\n",
              "    </g>\n",
              "</svg>\n",
              "  </button>\n",
              "\n",
              "<style>\n",
              "  .colab-df-quickchart {\n",
              "      --bg-color: #E8F0FE;\n",
              "      --fill-color: #1967D2;\n",
              "      --hover-bg-color: #E2EBFA;\n",
              "      --hover-fill-color: #174EA6;\n",
              "      --disabled-fill-color: #AAA;\n",
              "      --disabled-bg-color: #DDD;\n",
              "  }\n",
              "\n",
              "  [theme=dark] .colab-df-quickchart {\n",
              "      --bg-color: #3B4455;\n",
              "      --fill-color: #D2E3FC;\n",
              "      --hover-bg-color: #434B5C;\n",
              "      --hover-fill-color: #FFFFFF;\n",
              "      --disabled-bg-color: #3B4455;\n",
              "      --disabled-fill-color: #666;\n",
              "  }\n",
              "\n",
              "  .colab-df-quickchart {\n",
              "    background-color: var(--bg-color);\n",
              "    border: none;\n",
              "    border-radius: 50%;\n",
              "    cursor: pointer;\n",
              "    display: none;\n",
              "    fill: var(--fill-color);\n",
              "    height: 32px;\n",
              "    padding: 0;\n",
              "    width: 32px;\n",
              "  }\n",
              "\n",
              "  .colab-df-quickchart:hover {\n",
              "    background-color: var(--hover-bg-color);\n",
              "    box-shadow: 0 1px 2px rgba(60, 64, 67, 0.3), 0 1px 3px 1px rgba(60, 64, 67, 0.15);\n",
              "    fill: var(--button-hover-fill-color);\n",
              "  }\n",
              "\n",
              "  .colab-df-quickchart-complete:disabled,\n",
              "  .colab-df-quickchart-complete:disabled:hover {\n",
              "    background-color: var(--disabled-bg-color);\n",
              "    fill: var(--disabled-fill-color);\n",
              "    box-shadow: none;\n",
              "  }\n",
              "\n",
              "  .colab-df-spinner {\n",
              "    border: 2px solid var(--fill-color);\n",
              "    border-color: transparent;\n",
              "    border-bottom-color: var(--fill-color);\n",
              "    animation:\n",
              "      spin 1s steps(1) infinite;\n",
              "  }\n",
              "\n",
              "  @keyframes spin {\n",
              "    0% {\n",
              "      border-color: transparent;\n",
              "      border-bottom-color: var(--fill-color);\n",
              "      border-left-color: var(--fill-color);\n",
              "    }\n",
              "    20% {\n",
              "      border-color: transparent;\n",
              "      border-left-color: var(--fill-color);\n",
              "      border-top-color: var(--fill-color);\n",
              "    }\n",
              "    30% {\n",
              "      border-color: transparent;\n",
              "      border-left-color: var(--fill-color);\n",
              "      border-top-color: var(--fill-color);\n",
              "      border-right-color: var(--fill-color);\n",
              "    }\n",
              "    40% {\n",
              "      border-color: transparent;\n",
              "      border-right-color: var(--fill-color);\n",
              "      border-top-color: var(--fill-color);\n",
              "    }\n",
              "    60% {\n",
              "      border-color: transparent;\n",
              "      border-right-color: var(--fill-color);\n",
              "    }\n",
              "    80% {\n",
              "      border-color: transparent;\n",
              "      border-right-color: var(--fill-color);\n",
              "      border-bottom-color: var(--fill-color);\n",
              "    }\n",
              "    90% {\n",
              "      border-color: transparent;\n",
              "      border-bottom-color: var(--fill-color);\n",
              "    }\n",
              "  }\n",
              "</style>\n",
              "\n",
              "  <script>\n",
              "    async function quickchart(key) {\n",
              "      const quickchartButtonEl =\n",
              "        document.querySelector('#' + key + ' button');\n",
              "      quickchartButtonEl.disabled = true;  // To prevent multiple clicks.\n",
              "      quickchartButtonEl.classList.add('colab-df-spinner');\n",
              "      try {\n",
              "        const charts = await google.colab.kernel.invokeFunction(\n",
              "            'suggestCharts', [key], {});\n",
              "      } catch (error) {\n",
              "        console.error('Error during call to suggestCharts:', error);\n",
              "      }\n",
              "      quickchartButtonEl.classList.remove('colab-df-spinner');\n",
              "      quickchartButtonEl.classList.add('colab-df-quickchart-complete');\n",
              "    }\n",
              "    (() => {\n",
              "      let quickchartButtonEl =\n",
              "        document.querySelector('#df-29b56dbd-a69a-47b5-8b06-b9183c7792c5 button');\n",
              "      quickchartButtonEl.style.display =\n",
              "        google.colab.kernel.accessAllowed ? 'block' : 'none';\n",
              "    })();\n",
              "  </script>\n",
              "</div>\n",
              "\n",
              "    </div>\n",
              "  </div>\n"
            ],
            "application/vnd.google.colaboratory.intrinsic+json": {
              "type": "dataframe",
              "variable_name": "data",
              "summary": "{\n  \"name\": \"data\",\n  \"rows\": 53,\n  \"fields\": [\n    {\n      \"column\": \"SUMLEV\",\n      \"properties\": {\n        \"dtype\": \"number\",\n        \"std\": 4,\n        \"min\": 10,\n        \"max\": 40,\n        \"num_unique_values\": 2,\n        \"samples\": [\n          40,\n          10\n        ],\n        \"semantic_type\": \"\",\n        \"description\": \"\"\n      }\n    },\n    {\n      \"column\": \"REGION\",\n      \"properties\": {\n        \"dtype\": \"category\",\n        \"num_unique_values\": 6,\n        \"samples\": [\n          \"0\",\n          \"3\"\n        ],\n        \"semantic_type\": \"\",\n        \"description\": \"\"\n      }\n    },\n    {\n      \"column\": \"DIVISION\",\n      \"properties\": {\n        \"dtype\": \"category\",\n        \"num_unique_values\": 11,\n        \"samples\": [\n          \"1\",\n          \"0\"\n        ],\n        \"semantic_type\": \"\",\n        \"description\": \"\"\n      }\n    },\n    {\n      \"column\": \"STATE\",\n      \"properties\": {\n        \"dtype\": \"number\",\n        \"std\": 17,\n        \"min\": 0,\n        \"max\": 72,\n        \"num_unique_values\": 53,\n        \"samples\": [\n          22,\n          45\n        ],\n        \"semantic_type\": \"\",\n        \"description\": \"\"\n      }\n    },\n    {\n      \"column\": \"NAME\",\n      \"properties\": {\n        \"dtype\": \"string\",\n        \"num_unique_values\": 53,\n        \"samples\": [\n          \"Louisiana\",\n          \"South Carolina\"\n        ],\n        \"semantic_type\": \"\",\n        \"description\": \"\"\n      }\n    },\n    {\n      \"column\": \"POPESTIMATE2018\",\n      \"properties\": {\n        \"dtype\": \"number\",\n        \"std\": 44653855,\n        \"min\": 577737,\n        \"max\": 327167434,\n        \"num_unique_values\": 53,\n        \"samples\": [\n          4659978,\n          5084127\n        ],\n        \"semantic_type\": \"\",\n        \"description\": \"\"\n      }\n    },\n    {\n      \"column\": \"POPEST18PLUS2018\",\n      \"properties\": {\n        \"dtype\": \"number\",\n        \"std\": 34631214,\n        \"min\": 442962,\n        \"max\": 253768092,\n        \"num_unique_values\": 53,\n        \"samples\": [\n          3564062,\n          3978182\n        ],\n        \"semantic_type\": \"\",\n        \"description\": \"\"\n      }\n    },\n    {\n      \"column\": \"PCNT_POPEST18PLUS\",\n      \"properties\": {\n        \"dtype\": \"number\",\n        \"std\": 2.0628126274917298,\n        \"min\": 70.5,\n        \"max\": 81.9,\n        \"num_unique_values\": 41,\n        \"samples\": [\n          78.4,\n          74.5\n        ],\n        \"semantic_type\": \"\",\n        \"description\": \"\"\n      }\n    }\n  ]\n}"
            }
          },
          "metadata": {},
          "execution_count": 17
        }
      ],
      "source": [
        "data = pd.read_csv(CSV_FILE)\n",
        "data.head()"
      ]
    },
    {
      "cell_type": "code",
      "execution_count": null,
      "metadata": {
        "id": "ovYgpu27zXj4"
      },
      "outputs": [],
      "source": []
    },
    {
      "cell_type": "markdown",
      "metadata": {
        "id": "mwFxxcelzXj4"
      },
      "source": [
        "# Something Practical:\n",
        "\n",
        "### Sum up all the state populations to see if they match the total for the US\n",
        "\n",
        "**Algorithm:**\n",
        "\n",
        "When can see that the field `SUMLEV` tells us if this row is for the total US population (`SUMLEV` = `010`) or for a single state (`SUMLEV` = `040`)\n",
        "\n",
        "We'll read the file using the CSV reader.\n",
        "\n",
        "Loop through the file.  If the row has the `SUMLEV` = `'010'` then remember that as the total population.  If the row has the `SUMLEV` = `'040'` then keep a running total of state population."
      ]
    },
    {
      "cell_type": "code",
      "execution_count": null,
      "metadata": {
        "id": "8huGD9xszXj4"
      },
      "outputs": [],
      "source": [
        "import csv\n",
        "CSV_FILE=\"/content/SCPRC-EST2018-18+POP-RES.csv\"\n"
      ]
    },
    {
      "cell_type": "code",
      "execution_count": null,
      "metadata": {
        "id": "C_luh_VTzXj4",
        "outputId": "6d2a2b62-9c6d-4ae5-bc62-7dab09681968",
        "colab": {
          "base_uri": "https://localhost:8080/"
        }
      },
      "outputs": [
        {
          "output_type": "stream",
          "name": "stdout",
          "text": [
            "330362587 : 327167434\n"
          ]
        }
      ],
      "source": [
        "total = 0\n",
        "\n",
        "with open(CSV_FILE) as f:\n",
        "    census = csv.reader(f)\n",
        "    for row in census:\n",
        "        if row[0] == 'SUMLEV':\n",
        "            pass\n",
        "        elif row[4] != 'United States':\n",
        "            total += int(row[5])\n",
        "        else:\n",
        "            us_total = int(row[5])\n",
        "\n",
        "print(f'{total} : {us_total}')"
      ]
    },
    {
      "cell_type": "code",
      "execution_count": null,
      "metadata": {
        "id": "pqXvjgG6zXj4",
        "outputId": "c86e0cb1-20e0-45f6-9ea2-ebaec0e25af3",
        "colab": {
          "base_uri": "https://localhost:8080/"
        }
      },
      "outputs": [
        {
          "output_type": "execute_result",
          "data": {
            "text/plain": [
              "-0.009766109544998297"
            ]
          },
          "metadata": {},
          "execution_count": 20
        }
      ],
      "source": [
        "(us_total - total) / (us_total)"
      ]
    },
    {
      "cell_type": "code",
      "execution_count": null,
      "metadata": {
        "id": "cSkAwrB8zXj5"
      },
      "outputs": [],
      "source": []
    },
    {
      "cell_type": "code",
      "execution_count": null,
      "metadata": {
        "id": "4Mh1RsqxzXj5"
      },
      "outputs": [],
      "source": [
        "import csv"
      ]
    },
    {
      "cell_type": "code",
      "execution_count": null,
      "metadata": {
        "id": "vHOkRfHgzXj5"
      },
      "outputs": [],
      "source": []
    },
    {
      "cell_type": "code",
      "execution_count": null,
      "metadata": {
        "id": "H2S6Qz9ezXj5",
        "outputId": "406a6c5b-1587-4b6f-c847-09db70ac2025",
        "colab": {
          "base_uri": "https://localhost:8080/"
        }
      },
      "outputs": [
        {
          "output_type": "stream",
          "name": "stdout",
          "text": [
            "['040', '3', '6', '01', 'Alabama', '4887871', '3798031', '77.7']\n",
            "['040', '4', '9', '02', 'Alaska', '737438', '553622', '75.1']\n",
            "['040', '4', '8', '04', 'Arizona', '7171646', '5528989', '77.1']\n",
            "['040', '3', '7', '05', 'Arkansas', '3013825', '2310645', '76.7']\n",
            "['040', '4', '9', '06', 'California', '39557045', '30567090', '77.3']\n",
            "['040', '4', '8', '08', 'Colorado', '5695564', '4430329', '77.8']\n",
            "['040', '1', '1', '09', 'Connecticut', '3572665', '2837472', '79.4']\n",
            "['040', '3', '5', '10', 'Delaware', '967171', '763555', '78.9']\n",
            "['040', '3', '5', '11', 'District of Columbia', '702455', '574961', '81.9']\n",
            "['040', '3', '5', '12', 'Florida', '21299325', '17070244', '80.1']\n",
            "['040', '3', '5', '13', 'Georgia', '10519475', '8013724', '76.2']\n",
            "['040', '4', '9', '15', 'Hawaii', '1420491', '1117077', '78.6']\n",
            "['040', '4', '8', '16', 'Idaho', '1754208', '1307236', '74.5']\n",
            "['040', '2', '3', '17', 'Illinois', '12741080', '9883814', '77.6']\n",
            "['040', '2', '3', '18', 'Indiana', '6691878', '5123748', '76.6']\n",
            "['040', '2', '4', '19', 'Iowa', '3156145', '2425378', '76.8']\n",
            "['040', '2', '4', '20', 'Kansas', '2911505', '2205544', '75.8']\n",
            "['040', '3', '6', '21', 'Kentucky', '4468402', '3459573', '77.4']\n",
            "['040', '3', '7', '22', 'Louisiana', '4659978', '3564062', '76.5']\n",
            "['040', '1', '1', '23', 'Maine', '1338404', '1088000', '81.3']\n",
            "['040', '3', '5', '24', 'Maryland', '6042718', '4702570', '77.8']\n",
            "['040', '1', '1', '25', 'Massachusetts', '6902149', '5535291', '80.2']\n",
            "['040', '2', '3', '26', 'Michigan', '9995915', '7831247', '78.3']\n",
            "['040', '2', '4', '27', 'Minnesota', '5611179', '4308564', '76.8']\n",
            "['040', '3', '6', '28', 'Mississippi', '2986530', '2280389', '76.4']\n",
            "['040', '2', '4', '29', 'Missouri', '6126452', '4749622', '77.5']\n",
            "['040', '4', '8', '30', 'Montana', '1062305', '832871', '78.4']\n",
            "['040', '2', '4', '31', 'Nebraska', '1929268', '1452427', '75.3']\n",
            "['040', '4', '8', '32', 'Nevada', '3034392', '2345395', '77.3']\n",
            "['040', '1', '1', '33', 'New Hampshire', '1356458', '1098288', '81']\n",
            "['040', '1', '2', '34', 'New Jersey', '8908520', '6954877', '78.1']\n",
            "['040', '4', '8', '35', 'New Mexico', '2095428', '1613275', '77']\n",
            "['040', '1', '2', '36', 'New York', '19542209', '15474107', '79.2']\n",
            "['040', '3', '5', '37', 'North Carolina', '10383620', '8082975', '77.8']\n",
            "['040', '2', '4', '38', 'North Dakota', '760077', '581379', '76.5']\n",
            "['040', '2', '3', '39', 'Ohio', '11689442', '9096117', '77.8']\n",
            "['040', '3', '7', '40', 'Oklahoma', '3943079', '2986593', '75.7']\n",
            "['040', '4', '9', '41', 'Oregon', '4190713', '3317146', '79.2']\n",
            "['040', '1', '2', '42', 'Pennsylvania', '12807060', '10158149', '79.3']\n",
            "['040', '1', '1', '44', 'Rhode Island', '1057315', '852102', '80.6']\n",
            "['040', '3', '5', '45', 'South Carolina', '5084127', '3978182', '78.2']\n",
            "['040', '2', '4', '46', 'South Dakota', '882235', '664629', '75.3']\n",
            "['040', '3', '6', '47', 'Tennessee', '6770010', '5263790', '77.8']\n",
            "['040', '3', '7', '48', 'Texas', '28701845', '21303746', '74.2']\n",
            "['040', '4', '8', '49', 'Utah', '3161105', '2228643', '70.5']\n",
            "['040', '1', '1', '50', 'Vermont', '626299', '510326', '81.5']\n",
            "['040', '3', '5', '51', 'Virginia', '8517685', '6647893', '78']\n",
            "['040', '4', '9', '53', 'Washington', '7535591', '5872306', '77.9']\n",
            "['040', '3', '5', '54', 'West Virginia', '1805832', '1441672', '79.8']\n",
            "['040', '2', '3', '55', 'Wisconsin', '5813568', '4537465', '78']\n",
            "['040', '4', '8', '56', 'Wyoming', '577737', '442962', '76.7']\n",
            "['040', 'X', 'X', '72', 'Puerto Rico Commonwealth', '3195153', '2601142', '81.4']\n",
            "[0, 0, 0, 0, 0, 0]\n",
            "[0, 0, 0, 0, 0, 0]\n",
            "[0, 0, 0, 0, 0, 0]\n",
            "[0, 0, 0, 0, 0, 0]\n",
            "[0, 0, 0, 0, 0, 0]\n",
            "[0, 0, 0, 0, 0, 0]\n",
            "[0, 0, 0, 0, 0, 0]\n",
            "[0, 0, 0, 0, 0, 0]\n",
            "[0, 0, 0, 0, 0, 0]\n",
            "[0, 0, 0, 0, 0, 0]\n",
            "[0, 0, 0, 0, 0, 0]\n",
            "[0, 0, 0, 0, 0, 0]\n",
            "[0, 0, 0, 0, 0, 0]\n",
            "[0, 0, 0, 0, 0, 0]\n",
            "[0, 0, 0, 0, 0, 0]\n",
            "[0, 0, 0, 0, 0, 0]\n",
            "[0, 0, 0, 0, 0, 0]\n",
            "[0, 0, 0, 0, 0, 0]\n",
            "[0, 0, 0, 0, 0, 0]\n",
            "[0, 0, 0, 0, 0, 0]\n",
            "[0, 0, 0, 0, 0, 0]\n",
            "[0, 0, 0, 0, 0, 0]\n",
            "[0, 0, 0, 0, 0, 0]\n",
            "[0, 0, 0, 0, 0, 0]\n",
            "[0, 0, 0, 0, 0, 0]\n",
            "[0, 0, 0, 0, 0, 0]\n",
            "[0, 0, 0, 0, 0, 0]\n",
            "[0, 0, 0, 0, 0, 0]\n",
            "[0, 0, 0, 0, 0, 0]\n",
            "[0, 0, 0, 0, 0, 0]\n",
            "[0, 0, 0, 0, 0, 0]\n",
            "[0, 0, 0, 0, 0, 0]\n",
            "[0, 0, 0, 0, 0, 0]\n",
            "[0, 0, 0, 0, 0, 0]\n",
            "[0, 0, 0, 0, 0, 0]\n",
            "[0, 0, 0, 0, 0, 0]\n",
            "[0, 0, 0, 0, 0, 0]\n",
            "[0, 0, 0, 0, 0, 0]\n",
            "[0, 0, 0, 0, 0, 0]\n",
            "[0, 0, 0, 0, 0, 0]\n",
            "[0, 0, 0, 0, 0, 0]\n",
            "[0, 0, 0, 0, 0, 0]\n",
            "[0, 0, 0, 0, 0, 0]\n",
            "[0, 0, 0, 0, 0, 0]\n",
            "[0, 0, 0, 0, 0, 0]\n",
            "[0, 0, 0, 0, 0, 0]\n",
            "[0, 0, 0, 0, 0, 0]\n",
            "[0, 0, 0, 0, 0, 0]\n",
            "Total: 330362587\n",
            "Count: 100\n"
          ]
        }
      ],
      "source": [
        "import csv\n",
        "CSV_FILE=\"/content/SCPRC-EST2018-18+POP-RES.csv\"\n",
        "\n",
        "total = 0\n",
        "count = 0\n",
        "\n",
        "with open(CSV_FILE) as f:\n",
        "\n",
        "    census = csv.reader(f)\n",
        "    next(census)\n",
        "    next(census)\n",
        "    for i in range(100):\n",
        "        row = next(census,[0,0,0,0,0,0])\n",
        "        print(row)\n",
        "        total += int(row[5])\n",
        "        count += 1\n",
        "\n",
        "print(f'Total: {total}')\n",
        "print(f'Count: {count}')\n"
      ]
    },
    {
      "cell_type": "code",
      "execution_count": null,
      "metadata": {
        "id": "ZaaUqnB_zXj5"
      },
      "outputs": [],
      "source": []
    }
  ],
  "metadata": {
    "kernelspec": {
      "display_name": "Python 3",
      "language": "python",
      "name": "python3"
    },
    "language_info": {
      "codemirror_mode": {
        "name": "ipython",
        "version": 3
      },
      "file_extension": ".py",
      "mimetype": "text/x-python",
      "name": "python",
      "nbconvert_exporter": "python",
      "pygments_lexer": "ipython3",
      "version": "3.6.7"
    },
    "colab": {
      "provenance": [],
      "include_colab_link": true
    }
  },
  "nbformat": 4,
  "nbformat_minor": 0
}