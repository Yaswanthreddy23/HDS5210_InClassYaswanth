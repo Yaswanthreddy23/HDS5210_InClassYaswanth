{
  "cells": [
    {
      "cell_type": "markdown",
      "metadata": {
        "id": "fAOGAPNg36lE"
      },
      "source": [
        "### Mid-term for HDS5210\n",
        "\n",
        "Your supervisor is concerned about 4-year survival risks for COPD. She has asked for you to do some analysis using a new metric, BODE. BODE is an improvement on a previous metric and promises to provide insight on survival risks.\n",
        "\n",
        "BODE is defined here. https://www.mdcalc.com/calc/3916/bode-index-copd-survival#evidence\n",
        "\n",
        "Your assignment is to create a BODE calculation, use it to calculate BODE scores and BODE survival rates for a group of patients. Then we want to evaluate the average BODE scores and BODE survival rates for each area hospital.\n",
        "\n",
        "Your patient input file will have the following columns:\n",
        "NAME,SSN,LANGUAGE,JOB,HEIGHT_M,WEIGHT_KG,fev_pct,dyspnea_description,distance_in_meters,hospital\n",
        "\n",
        "BODE calculations require a BMI value, so you will have to create a function for it.\n",
        "\n",
        "Your output should be in the form of two CSV files, patient_output.csv and hospital_output.csv.\n",
        "\n",
        "Patient_output will have the following columns:\n",
        "NAME,BODE_SCORE,BODE_RISK,HOSPITAL\n",
        "\n",
        "Hospital output will have the following columns:\n",
        "HOSPITAL_NAME, COPD_COUNT, PCT_OF_COPD_CASES_OVER_BEDS, AVG_SCORE, AVG_RISK\n",
        "\n",
        "Each function you create should have documentation and a suitable number of test cases. If the input data could be wrong, make sure to raise a Value Error.\n",
        "\n",
        "For this assignment, use the doctest, json, and csv libraries. Pandas is not allowed for this assignment."
      ]
    },
    {
      "cell_type": "code",
      "execution_count": 107,
      "metadata": {
        "id": "RBtr5LkM36lF"
      },
      "outputs": [],
      "source": [
        "import doctest\n",
        "import json\n",
        "import csv"
      ]
    },
    {
      "cell_type": "markdown",
      "metadata": {
        "id": "v9jQrMA_36lF"
      },
      "source": [
        "### Step 1: Calculate BMI"
      ]
    },
    {
      "cell_type": "code",
      "execution_count": 108,
      "metadata": {
        "id": "sHJk-Jos36lF"
      },
      "outputs": [],
      "source": [
        "def compute_bmi(weight_kg, height_m):\n",
        "    \"\"\"\n",
        "    Calculate the Body Mass Index (BMI) using weight and height.\n",
        "\n",
        "    >>> compute_bmi(70, 1.75)\n",
        "    22.86\n",
        "\n",
        "    >>> compute_bmi(60, 1.65)\n",
        "    22.04\n",
        "\n",
        "    weight_kg: The weight in kilograms\n",
        "    height_m: The height in meters\n",
        "    return: The BMI value rounded to two decimal places\n",
        "    \"\"\"\n",
        "    if weight_kg <= 0 or height_m <= 0:\n",
        "        raise ValueError(\"Both weight and height must be positive values.\")\n",
        "\n",
        "    bmi = weight_kg / (height_m ** 2)\n",
        "    return round(bmi, 2)\n"
      ]
    },
    {
      "cell_type": "markdown",
      "metadata": {
        "id": "Lkxk_ctD36lF"
      },
      "source": [
        "### Step 2: Calculate BODE Score"
      ]
    },
    {
      "cell_type": "code",
      "execution_count": 109,
      "metadata": {
        "id": "_P5YDKjA36lG"
      },
      "outputs": [],
      "source": [
        "def normalize_dyspnea_description(description):\n",
        "    \"\"\"\n",
        "    Normalize variations of dyspnea descriptions to fit known categories.\n",
        "\n",
        "    >>> normalize_dyspnea_description(\"STOPS AFTER A FEW MINUTES\")\n",
        "    'Severe breathlessness'\n",
        "\n",
        "    >>> normalize_dyspnea_description(\"WHEN HURRYING\")\n",
        "    'Moderate breathlessness'\n",
        "    \"\"\"\n",
        "    description = description.upper().strip()\n",
        "    mapping = {\n",
        "        \"STOPS AFTER A FEW MINUTES\": \"Severe breathlessness\",\n",
        "        \"WHEN HURRYING\": \"Moderate breathlessness\",\n",
        "        \"UNABLE TO LEAVE HOME\": \"Severe breathlessness\",\n",
        "        \"SLOWER THAN PEERS\": \"Moderate breathlessness\",\n",
        "        \"WALKING UPHILL\": \"Moderate breathlessness\",\n",
        "        \"ONLY STRENUOUS EXERCISE\": \"Mild breathlessness\",\n",
        "        \"BREATHLESS WHEN DRESSING\": \"Severe breathlessness\",\n",
        "        \"STOPS WHEN WALKING AT PACE\": \"Severe breathlessness\",\n",
        "        \"STOPS AFTER 100 YARDS\": \"Severe breathlessness\",\n",
        "    }\n",
        "\n",
        "    for key in mapping:\n",
        "        if key in description:\n",
        "            return mapping[key]\n",
        "\n",
        "    return description\n",
        "\n",
        "def calculate_bode_score(bmi, fev_pct, dyspnea_description, distance_in_meters):\n",
        "    \"\"\"\n",
        "    Calculate the BODE score based on BMI, FEV1 percentage, dyspnea description, and distance in meters.\n",
        "\n",
        "    >>> calculate_bode_score(22, 70, 'ONLY STRENUOUS EXERCISE', 400)\n",
        "    1\n",
        "    >>> calculate_bode_score(18, 40, 'STOPS WHEN WALKING AT PACE', 200)\n",
        "    8\n",
        "    \"\"\"\n",
        "    bode_score = 0\n",
        "\n",
        "    # BMI score calculation\n",
        "    bmi_score = {True: 0, False: 1}\n",
        "    bode_score += bmi_score[bmi <= 21]\n",
        "\n",
        "    # FEV1 score calculation\n",
        "    if fev_pct >= 65:\n",
        "        bode_score += 0\n",
        "    elif 50 <= fev_pct < 65:\n",
        "        bode_score += 1\n",
        "    elif 36 <= fev_pct < 50:\n",
        "        bode_score += 2\n",
        "    else:\n",
        "        bode_score += 3\n",
        "\n",
        "    # Normalize dyspnea description and map it to a score\n",
        "    dyspnea_description = normalize_dyspnea_description(dyspnea_description)\n",
        "    dyspnea_mapping = {\n",
        "        \"No breathlessness\": 0,\n",
        "        \"Mild breathlessness\": 1,\n",
        "        \"Moderate breathlessness\": 2,\n",
        "        \"Severe breathlessness\": 3,\n",
        "    }\n",
        "\n",
        "    dyspnea_score = dyspnea_mapping.get(dyspnea_description)\n",
        "    if dyspnea_score is None:\n",
        "        print(f\"Invalid dyspnea description: {dyspnea_description}\")\n",
        "        raise ValueError(\"Invalid dyspnea description.\")\n",
        "\n",
        "    bode_score += dyspnea_score\n",
        "\n",
        "    # Distance walked score calculation\n",
        "    distance_scores = {\n",
        "        (distance_in_meters > 350): 0,\n",
        "        (250 <= distance_in_meters <= 350): 1,\n",
        "        (150 <= distance_in_meters < 250): 2,\n",
        "    }\n",
        "    for condition, score in distance_scores.items():\n",
        "        if condition:\n",
        "            bode_score += score\n",
        "            break\n",
        "    else:\n",
        "        bode_score += 3\n",
        "\n",
        "    return bode_score\n",
        "\n"
      ]
    },
    {
      "cell_type": "markdown",
      "metadata": {
        "id": "7o7qmHZz36lG"
      },
      "source": [
        "### Step 3: Calculate BODE Risk"
      ]
    },
    {
      "cell_type": "code",
      "execution_count": 110,
      "metadata": {
        "id": "73P3CU4p36lG"
      },
      "outputs": [],
      "source": [
        "def assess_bode_risk(bode_score):\n",
        "    \"\"\"\n",
        "    Determine the BODE risk category from the provided BODE score.\n",
        "\n",
        "    bode_score: The score from the BODE assessment\n",
        "    return: Corresponding BODE risk category\n",
        "    \"\"\"\n",
        "    risk_mapping = {\n",
        "        range(0, 3): \"Low Risk\",\n",
        "        range(3, 6): \"Moderate Risk\"\n",
        "    }\n",
        "\n",
        "    for score_range, risk in risk_mapping.items():\n",
        "        if bode_score in score_range:\n",
        "            return risk\n",
        "\n",
        "    return \"High Risk\"\n"
      ]
    },
    {
      "cell_type": "markdown",
      "metadata": {
        "id": "HW4Xocnh36lG"
      },
      "source": [
        "### Step 4: Load Hospital Data"
      ]
    },
    {
      "cell_type": "code",
      "execution_count": 111,
      "metadata": {
        "id": "AAw6HRYB36lG",
        "outputId": "ebea8fc8-af1b-479d-83bc-09d4302248c2",
        "colab": {
          "base_uri": "https://localhost:8080/"
        }
      },
      "outputs": [
        {
          "output_type": "stream",
          "name": "stdout",
          "text": [
            "Different types of dyspnea descriptions in the dataset:\n",
            "SLOWER THAN PEERS\n",
            "STOPS WHEN WALKING AT PACE\n",
            "STOPS AFTER 100 YARDS\n",
            "ONLY STRENUOUS EXERCISE\n",
            "UNABLE TO LEAVE HOME\n",
            "WALKING UPHILL\n",
            "WHEN HURRYING\n",
            "STOPS AFTER A FEW MINUTES\n",
            "BREATHLESS WHEN DRESSING\n"
          ]
        }
      ],
      "source": [
        "def load_hospital_data(json_file):\n",
        "    \"\"\"\n",
        "    Load hospital data from a JSON file.\n",
        "    \"\"\"\n",
        "    with open(json_file, 'r') as file:\n",
        "        return json.load(file)\n",
        "dyspnea_descriptions = set()\n",
        "\n",
        "with open('patient.csv', 'r') as csvfile:\n",
        "    reader = csv.DictReader(csvfile)\n",
        "    for row in reader:\n",
        "        dyspnea_descriptions.add(row['dyspnea_description'])\n",
        "\n",
        "# Print the different types of dyspnea descriptions\n",
        "print(\"Different types of dyspnea descriptions in the dataset:\")\n",
        "for description in dyspnea_descriptions:\n",
        "    print(description)\n",
        "\n"
      ]
    },
    {
      "cell_type": "markdown",
      "metadata": {
        "id": "AuUQOO4736lG"
      },
      "source": [
        "### Step 5: Main business logic\n",
        "\n",
        "Call BODE Score, BODE Risk functions for each patient.\n",
        "\n",
        "For each hospital, calculate Avg BODE score and Avg BODE risk and count the number of cases for each hospital."
      ]
    },
    {
      "cell_type": "code",
      "execution_count": 112,
      "metadata": {
        "id": "O9-pudiy36lG"
      },
      "outputs": [],
      "source": [
        "patient_csv = \"patient.csv\"\n",
        "hospital_json = \"hospitals.json\"\n",
        "\n",
        "patient_output_file = \"patient_output.csv\"\n",
        "hospital_output_file = \"hospital_output.csv\"\n",
        "\n",
        "###\n",
        "# Your logic here\n",
        "\n",
        "# Load hospital data\n",
        "hospital_data = load_hospital_data(hospital_json)\n",
        "\n",
        "# Initialize the hospital metrics dictionary using the hospital names from the JSON data\n",
        "hospital_metrics = {}\n",
        "\n",
        "for entry in hospital_data:\n",
        "    # Iterate over the hospitals list within the entry\n",
        "    for hospital in entry['hospitals']:\n",
        "        hospital_metrics[hospital['name']] = {\n",
        "            'total_bode_score': 0,\n",
        "            'total_risk': 0,\n",
        "            'copd_count': 0,\n",
        "            'beds': hospital['beds']\n",
        "        }\n",
        "\n",
        "###\n",
        "patient_results = []\n",
        "\n",
        "# Read patient data from the CSV file\n",
        "with open(patient_csv, 'r') as csvfile:\n",
        "    reader = csv.DictReader(csvfile)\n",
        "\n",
        "    for row in reader:\n",
        "        name = row['NAME']\n",
        "        ssn = row['SSN']\n",
        "        language = row['LANGUAGE']\n",
        "        job = row['JOB']\n",
        "        height_m = float(row['HEIGHT_M'])\n",
        "        weight_kg = float(row['WEIGHT_KG'])\n",
        "        fev_pct = float(row['fev_pct'])\n",
        "        dyspnea_description = row['dyspnea_description']\n",
        "        distance_in_meters = float(row['distance_in_meters'])\n",
        "        hospital_name = row['hospital']\n",
        "\n",
        "        # Calculate BMI, BODE score, and BODE risk\n",
        "        bmi = calculate_bmi(weight_kg, height_m)\n",
        "        bode_score = calculate_bode_score(bmi, fev_pct, dyspnea_description, distance_in_meters)\n",
        "        bode_risk = calculate_bode_risk(bode_score)\n",
        "\n",
        "        # Add patient results\n",
        "        patient_results.append([name, bode_score, bode_risk, hospital_name])\n",
        "\n",
        "        # Update hospital metrics\n",
        "        if hospital_name in hospital_metrics:\n",
        "            hospital_metrics[hospital_name]['total_bode_score'] += bode_score\n",
        "            hospital_metrics[hospital_name]['total_risk'] += 1\n",
        "            hospital_metrics[hospital_name]['copd_count'] += 1\n",
        "\n",
        "hospital_output_list = []\n",
        "\n",
        "# Calculate hospital metrics\n",
        "for hospital_name, metrics in hospital_metrics.items():\n",
        "    copd_count = metrics['copd_count']\n",
        "    if copd_count > 0:\n",
        "        avg_bode_score = metrics['total_bode_score'] / copd_count\n",
        "        avg_bode_risk = metrics['total_risk'] / copd_count\n",
        "    else:\n",
        "        avg_bode_score = 0\n",
        "        avg_bode_risk = 0\n",
        "    pct_of_copd_cases = (copd_count / metrics['beds']) * 100 if metrics['beds'] > 0 else 0\n",
        "    hospital_output_list.append([hospital_name, copd_count, pct_of_copd_cases, avg_bode_score, avg_bode_risk])\n",
        "\n",
        "\n",
        "#Write Patient_output.csv\n",
        "with open(patient_output_file, 'w', newline='') as csvfile:\n",
        "    writer = csv.writer(csvfile)\n",
        "    writer.writerows(patient_results)\n",
        "#Write Hospital_output.csv\n",
        "with open(hospital_output_file, 'w', newline='') as csvfile:\n",
        "    writer = csv.writer(csvfile)\n",
        "    writer.writerows(hospital_output_list)"
      ]
    }
  ],
  "metadata": {
    "language_info": {
      "name": "python"
    },
    "colab": {
      "provenance": []
    },
    "kernelspec": {
      "name": "python3",
      "display_name": "Python 3"
    }
  },
  "nbformat": 4,
  "nbformat_minor": 0
}
