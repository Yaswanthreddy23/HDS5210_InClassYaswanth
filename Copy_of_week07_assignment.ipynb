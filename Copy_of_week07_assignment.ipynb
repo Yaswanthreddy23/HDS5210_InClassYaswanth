{
  "cells": [
    {
      "cell_type": "markdown",
      "metadata": {
        "id": "view-in-github",
        "colab_type": "text"
      },
      "source": [
        "<a href=\"https://colab.research.google.com/github/Yaswanthreddy23/HDS5210_InClassYaswanth/blob/master/Copy_of_week07_assignment.ipynb\" target=\"_parent\"><img src=\"https://colab.research.google.com/assets/colab-badge.svg\" alt=\"Open In Colab\"/></a>"
      ]
    },
    {
      "cell_type": "markdown",
      "metadata": {
        "id": "5T8KuJLKyvg5"
      },
      "source": [
        "# Week 7 Assignment\n",
        "\n",
        "We've been working with different types of data structures in Python (dictionary, list, etc), how those are represented in JSON documents, and how to write code to access specific data elements. In this week's assignment, you will need to create your own JSON document to store information about yourself and the grades you've received from week 1 to week 4 and the week 6 quiz.  That is, everything you should have received a grade for.  Then you'll need to show me you know how to navigate the JSON in that file.\n",
        "\n",
        "Different from what we've done in the past, you do not have to write any functions or include any docstrings.  Just create some JSON and write some code.\n",
        "\n",
        "---"
      ]
    },
    {
      "cell_type": "markdown",
      "metadata": {
        "id": "WdOyaIruyvg7"
      },
      "source": [
        "## 7.1 Create a JSON file\n",
        "\n",
        "Create a JSON file that contains your name, email, year you were born, all of the grades you've received back so far, and a comment about what you thought was most challenging on each of those assignments.  This can be any structure you choose, but make sure it uses a dictionary and a list, and has at least two levels of hierarchy.  That is, it can't just be one big long list."
      ]
    },
    {
      "cell_type": "markdown",
      "metadata": {
        "id": "axWtbLvfyvg8"
      },
      "source": [
        "First, explain how your data structure is going to look..."
      ]
    },
    {
      "cell_type": "markdown",
      "metadata": {
        "id": "QTAWCKMRyvg8"
      },
      "source": [
        "* Put your explanation here in text..."
      ]
    },
    {
      "cell_type": "markdown",
      "metadata": {
        "id": "tpyMrb-ryvg8"
      },
      "source": [
        "Then put the actual JSON you've created inside the multiline string below..."
      ]
    },
    {
      "cell_type": "code",
      "execution_count": 27,
      "metadata": {
        "id": "yoe_IYluyvg9"
      },
      "outputs": [],
      "source": [
        "hds5210 = \"\"\"\n",
        "{\n",
        "    \"myself\": {\n",
        "        \"name\": \"Yaswanth Reddy Gogireddy\",\n",
        "        \"email\": \"gogireddy079@gmail.com\",\n",
        "        \"year_born\": 2001,\n",
        "        \"grades\": {\n",
        "            \"assignment1\": 10,\n",
        "            \"assignment2\": 8,\n",
        "            \"assignment3\": 9,\n",
        "            \"assignment4\": 11,\n",
        "            \"assignment5\": \"submitted but Marks not assigned\",\n",
        "            \"assignment6\": \"submitted today\"\n",
        "        },\n",
        "        \"Toughest_assignment\": \"Week-4 i.e list and tuples assignment\"\n",
        "    }\n",
        "}\n",
        "\"\"\""
      ]
    },
    {
      "cell_type": "markdown",
      "metadata": {
        "id": "DNY8zAIiyvg9"
      },
      "source": [
        "## 7.2 Do something with your JSON\n",
        "\n",
        "Now use Python code to do something with the Json above.  Turn it into English text, but make sure that you use at least one loop to access some dict or list content of your JSON.  Below, I've provided some basic code to read in the string above as JSON and return a Python object.  Your job is to work with that data structure and print out the important information like your name, email, and how you did on each assignment."
      ]
    },
    {
      "cell_type": "code",
      "execution_count": 28,
      "metadata": {
        "id": "fZD3ptQsyvg-",
        "outputId": "2ba2733a-d121-49ab-8c16-bbf3386388e3",
        "colab": {
          "base_uri": "https://localhost:8080/"
        }
      },
      "outputs": [
        {
          "output_type": "stream",
          "name": "stdout",
          "text": [
            "My name is Yaswanth Reddy Gogireddy, and my email is gogireddy079@gmail.com.\n",
            "I was born in 2001.\n",
            "Here are the grades I've received so far:\n",
            "assignment1: 10\n",
            "assignment2: 8\n",
            "assignment3: 9\n",
            "assignment4: 11\n",
            "assignment5: submitted but Marks not assigned\n",
            "assignment6: submitted today\n",
            "The Toughest assignment I've had so far is Week-4 i.e list and tuples assignment\n"
          ]
        }
      ],
      "source": [
        "import json\n",
        "\n",
        "info = json.loads(hds5210)\n",
        "\n",
        "# Load the JSON data into a Python object\n",
        "\n",
        "# Extract personal information\n",
        "name = info[\"myself\"].get(\"name\", \"Yaswanth Reddy Gogireddy\")\n",
        "email = info[\"myself\"].get(\"email\", \"gogireddy079@gmail.com\")\n",
        "year_born = info[\"myself\"].get(\"year_born\", 2001)\n",
        "grades = info[\"myself\"].get(\"grades\", {})\n",
        "\n",
        "# Extract assignment information\n",
        "assignment1 = grades.get(\"assignment1\", 10)\n",
        "assignment2 = grades.get(\"assignment2\", 9)\n",
        "assignment3 = grades.get(\"assignment3\", 8)\n",
        "assignment4 = grades.get(\"assignment4\", 11)\n",
        "assignment5 = grades.get(\"assignment5\", \"submitted but Marks not assigned\")\n",
        "assignment6 = grades.get(\"assighnment6\",\"submitted today\")\n",
        "Toughest_assignment = info[\"myself\"].get(\"Toughest_assignment\", \"Week-4 i.e list and tuples assignment\")\n",
        "\n",
        "# Start building the output text\n",
        "output_text = f\"My name is Yaswanth Reddy Gogireddy, and my email is gogireddy079@gmail.com.\\n\"\n",
        "output_text += f\"I was born in {2001}.\\n\"\n",
        "output_text += \"Here are the grades I've received so far:\\n\"\n",
        "\n",
        "# Loop through grades to add them to the output\n",
        "for assignment, grade in grades.items():\n",
        "    output_text += f\"{assignment}: {grade}\\n\"\n",
        "\n",
        "output_text += f\"The Toughest assignment I've had so far is Week-4 i.e list and tuples assignment\"\n",
        "\n",
        "# Print the final output\n",
        "print(output_text)"
      ]
    },
    {
      "cell_type": "markdown",
      "metadata": {
        "id": "P0ZgLwPYyvg-"
      },
      "source": [
        "## 7.3 Reflect\n",
        "\n",
        "Write a paragraph on any reflections you have. Was this hard? Easy?  What parts were most challenging or easiest? What did you like or dislike about the assignment?  Share whatever important thoughts you have abou this assignment."
      ]
    },
    {
      "cell_type": "markdown",
      "metadata": {
        "id": "BuQOVkOjyvg-"
      },
      "source": [
        "This project served as a useful practice for handling JSON data and transforming it into a format that is easier to understand for humans using Python. Because I am familiar with fundamental Python elements like loops and dictionaries, I found the assignment to be rather manageable overall. The easiest step was using keys to access the values after importing the JSON data into a Python dictionary.\n",
        "\n",
        "Building the English paragraph while going through the assignments and arranging the content in a readable manner was the somewhat more difficult part. It served as a helpful reminder of how to work with dynamic data in Python, but it did require some careful string concatenation to make sure everything looked nice.\n",
        "\n",
        "I found the task to be enjoyable because it emphasised the significance of structured data andhow it reaffirmed the value of structured data and the benefits of using JSON when interacting with or transferring Python information. The freedom to create my own data structure and apply programs to manipulate it pleased me. Typing out the comprehensive assignment information was, if anything, the most tiresome part, but that's a little gripe.\n",
        "\n",
        "To sum up, I thought this exercise was an excellent way to combine Python scripting with JSON handling, and it was a fairly simple and useful assignment."
      ]
    },
    {
      "cell_type": "markdown",
      "metadata": {
        "id": "ZraVnIKiyvg_"
      },
      "source": [
        "---\n",
        "\n",
        "# Example\n",
        "\n",
        "Below is an example of something similar, but this uses information my and my friend's kids instead of grades."
      ]
    },
    {
      "cell_type": "code",
      "execution_count": 29,
      "metadata": {
        "id": "_ZL6pavzyvg_",
        "outputId": "a647ae45-b86b-43ae-9641-213686efc637",
        "colab": {
          "base_uri": "https://localhost:8080/"
        }
      },
      "outputs": [
        {
          "output_type": "stream",
          "name": "stdout",
          "text": [
            "Hi, my name is Paul. I've got 3 kids. Their names are Ellie, Ada, Teddy.\n",
            "My friend, Anny has 1 kids. That's fewer than me. Their names are 1\n"
          ]
        }
      ],
      "source": [
        "hds5210 = \"\"\"\n",
        "{\n",
        "    \"me\": {\n",
        "        \"name\": \"Paul\",\n",
        "        \"kids\": [\"Ellie\", \"Ada\", \"Teddy\"]\n",
        "    },\n",
        "    \"friend\": {\n",
        "        \"name\": \"Anny\",\n",
        "        \"kids\": [\"Abby\"]\n",
        "    }\n",
        "}\n",
        "\"\"\"\n",
        "\n",
        "import json\n",
        "\n",
        "info = json.loads(hds5210)\n",
        "\n",
        "me = info[\"me\"][\"name\"]\n",
        "my_kids_count = len(info[\"me\"][\"kids\"])\n",
        "kids_list = \", \".join(info[\"me\"][\"kids\"])\n",
        "friend = info[\"friend\"][\"name\"]\n",
        "friends_kid_count = len(info[\"friend\"][\"kids\"])\n",
        "friend_kids = \", \".join(info[\"friend\"][\"kids\"])\n",
        "compare = \"more\" if friends_kid_count > my_kids_count else \"fewer\"\n",
        "\n",
        "print(f\"Hi, my name is {me}. I've got {my_kids_count} kids. Their names are {kids_list}.\")\n",
        "print(f\"My friend, {friend} has {friends_kid_count} kids. That's {compare} than me. Their names are {friends_kid_count}\")"
      ]
    }
  ],
  "metadata": {
    "kernelspec": {
      "display_name": "Python 3",
      "language": "python",
      "name": "python3"
    },
    "language_info": {
      "codemirror_mode": {
        "name": "ipython",
        "version": 3
      },
      "file_extension": ".py",
      "mimetype": "text/x-python",
      "name": "python",
      "nbconvert_exporter": "python",
      "pygments_lexer": "ipython3",
      "version": "3.9.16"
    },
    "colab": {
      "provenance": [],
      "include_colab_link": true
    }
  },
  "nbformat": 4,
  "nbformat_minor": 0
}