{
  "cells": [
    {
      "cell_type": "markdown",
      "metadata": {
        "id": "view-in-github",
        "colab_type": "text"
      },
      "source": [
        "<a href=\"https://colab.research.google.com/github/Yaswanthreddy23/HDS5210_InClassYaswanth/blob/master/Copy_of_week11_assignment.ipynb\" target=\"_parent\"><img src=\"https://colab.research.google.com/assets/colab-badge.svg\" alt=\"Open In Colab\"/></a>"
      ]
    },
    {
      "cell_type": "markdown",
      "metadata": {
        "id": "BYvvbA8wgdKg"
      },
      "source": [
        "# Week 11 Assignment\n",
        "\n",
        "\n",
        "Please do the programming exercise and verify that your code works using the tests, then think about your final project and fill out the questions in the second part.\n",
        "\n",
        "---\n",
        "---"
      ]
    },
    {
      "cell_type": "markdown",
      "metadata": {
        "id": "LFyDSeMwgdKh"
      },
      "source": [
        "### 47.1: Filtering and summarizing data\n",
        "\n",
        "For this work, you'll find a data file in `/data/complications_all.csv`.\n",
        "\n",
        "Read in the data file and create a variable called `mo_hospitals` that contains a data frame from the `complications_all.csv` file, filtered down to only contain those hospitals from the state of Missouri (MO).\n",
        "\n",
        "Then aggregate that data by hospital into a variable named `mo_summary`.  There are some key fields that we want to summarize:\n",
        "* We want to know the earliest date that each hospital was participating in any program\n",
        "* We want to know the latest date that each hospital stopped participating in any program\n",
        "* We want to know the total number of patients in the denominators of these programs\n",
        "\n",
        "Some things to note:\n",
        "* You will need to convert the `Start Date` and `End Date` to actual datetime fields\n",
        "* You will need to clean up and convert the `Denominator` field to just be numeric - the rule that you should use it to simply remove any records where the `Denominator` is `'Not Available'`\n",
        "\n",
        "\n",
        "The final result of this step should be a new data frame called `mo_summary` that contains one row for each hospital and contains the min start date, max end date, and total denominator.  Use the names `start_date`, `end_date`, and `number` for those columns in `mo_summary`.\n",
        "\n",
        "\n",
        "You do not need to create your code in the form of a function, just make sure your variable names match what I've described above so the tests work."
      ]
    },
    {
      "cell_type": "code",
      "execution_count": 20,
      "metadata": {
        "id": "qbckybPjgdKi"
      },
      "outputs": [],
      "source": [
        "import pandas as pd\n",
        "# This is just to show you the name to use for the variable you need to create for this step to pass.\n",
        "all_hospitals = pd.read_csv('https://hds5210-data.s3.amazonaws.com/complications_all.csv')\n"
      ]
    },
    {
      "cell_type": "code",
      "execution_count": 21,
      "metadata": {
        "id": "7jDt0rCDgdKi",
        "outputId": "74b40cf6-973e-457e-91b6-25db639e0977",
        "colab": {
          "base_uri": "https://localhost:8080/"
        }
      },
      "outputs": [
        {
          "output_type": "stream",
          "name": "stdout",
          "text": [
            "                                                  start_date   end_date  number\n",
            "Facility Name                                                                  \n",
            "BARNES JEWISH HOSPITAL                            2015-04-01 2018-06-30  131313\n",
            "BARNES-JEWISH ST PETERS HOSPITAL                  2015-04-01 2018-06-30   15668\n",
            "BARNES-JEWISH WEST COUNTY HOSPITAL                2015-04-01 2018-06-30    9622\n",
            "BATES COUNTY MEMORIAL HOSPITAL                    2015-07-01 2018-06-30    3117\n",
            "BELTON REGIONAL MEDICAL CENTER                    2015-04-01 2018-06-30    9270\n",
            "BOONE HOSPITAL CENTER                             2015-04-01 2018-06-30   63099\n",
            "BOTHWELL REGIONAL HEALTH CENTER                   2015-04-01 2018-06-30   14717\n",
            "CAMERON REGIONAL MEDICAL CENTER                   2015-04-01 2018-06-30    6066\n",
            "CAPITAL REGION MEDICAL CENTER                     2015-04-01 2018-06-30   17598\n",
            "CARROLL COUNTY MEMORIAL HOSPITAL                  2015-07-01 2018-06-30      81\n",
            "CASS REGIONAL MEDICAL CENTER                      2015-04-01 2018-06-30     289\n",
            "CEDAR COUNTY MEMORIAL HOSPITAL                    2015-07-01 2018-06-30      53\n",
            "CENTERPOINT MEDICAL CENTER                        2015-04-01 2018-06-30   35106\n",
            "CHRISTIAN HOSPITAL NORTHEAST-NORTHWEST            2015-04-01 2018-06-30   31846\n",
            "CITIZENS MEMORIAL HOSPITAL                        2015-04-01 2018-06-30    7529\n",
            "COLUMBIA MO VA MEDICAL CENTER                     2015-07-01 2018-06-30     890\n",
            "COMMUNITY HOSPITAL ASSOCIATION                    2015-07-01 2018-06-30     184\n",
            "COOPER COUNTY COMMUNITY HOSPITAL                  2015-07-01 2018-06-30     697\n",
            "COX BARTON COUNTY HOSPITAL                        2015-04-01 2018-06-30     201\n",
            "COX MEDICAL CENTER BRANSON                        2015-04-01 2018-06-30   16633\n",
            "COX MEDICAL CENTERS                               2015-04-01 2018-06-30   69169\n",
            "COX MONETT HOSPITAL                               2015-07-01 2018-06-30      98\n",
            "ELLETT MEMORIAL HOSPITAL                          2015-07-01 2018-06-30      97\n",
            "EXCELSIOR SPRINGS HOSPITAL                        2015-07-01 2018-06-30      47\n",
            "FITZGIBBON HOSPITAL                               2015-04-01 2018-06-30    3669\n",
            "FREEMAN HEALTH SYSTEM - FREEMAN WEST              2015-04-01 2018-06-30   53519\n",
            "FREEMAN NEOSHO HOSPITAL                           2015-07-01 2018-06-30     258\n",
            "FULTON MEDICAL CENTER LLC                         2016-07-01 2018-06-30     184\n",
            "GOLDEN VALLEY MEMORIAL HOSPITAL                   2015-04-01 2018-06-30    6360\n",
            "HANNIBAL REGIONAL HOSPITAL                        2015-04-01 2018-06-30   17532\n",
            "HARRISON COUNTY COMMUNITY HOSPITAL                2015-07-01 2018-06-30     167\n",
            "HEDRICK MEDICAL CENTER                            2015-07-01 2018-06-30     359\n",
            "HERMANN AREA DISTRICT HOSPITAL                    2015-07-01 2018-06-30     119\n",
            "I-70 COMMUNITY HOSPITAL                           2015-07-01 2018-06-30      26\n",
            "IRON COUNTY MEDICAL CENTER                        2015-07-01 2018-06-30      99\n",
            "KANSAS CITY VA MEDICAL CENTER                     2015-07-01 2018-06-30     942\n",
            "LAFAYETTE REGIONAL HEALTH CENTER                  2015-07-01 2018-06-30     194\n",
            "LAKE REGIONAL HEALTH SYSTEM                       2015-04-01 2018-06-30   16028\n",
            "LEE'S SUMMIT MEDICAL CENTER                       2015-04-01 2018-06-30   11806\n",
            "LIBERTY HOSPITAL                                  2015-04-01 2018-06-30   24716\n",
            "MACON COUNTY SAMARITAN MEMORIAL HOSPITAL          2015-04-01 2018-06-30     264\n",
            "MADISON MEDICAL CENTER                            2015-07-01 2018-06-30     103\n",
            "MERCY HOSPITAL AURORA                             2015-07-01 2018-06-30      96\n",
            "MERCY HOSPITAL CARTHAGE                           2015-07-01 2018-06-30     153\n",
            "MERCY HOSPITAL CASSVILLE                          2015-07-01 2018-06-30      98\n",
            "MERCY HOSPITAL JEFFERSON                          2015-04-01 2018-06-30   23770\n",
            "MERCY HOSPITAL JOPLIN                             2015-04-01 2018-06-30   29977\n",
            "MERCY HOSPITAL LEBANON                            2015-04-01 2018-06-30    5665\n",
            "MERCY HOSPITAL LINCOLN                            2015-07-01 2018-06-30     161\n",
            "MERCY HOSPITAL SOUTH                              2015-04-01 2018-06-30   62487\n",
            "MERCY HOSPITAL SPRINGFIELD                        2015-04-01 2018-06-30   81264\n",
            "MERCY HOSPITAL ST LOUIS                           2015-04-01 2018-06-30   68665\n",
            "MERCY HOSPITAL WASHINGTON                         2015-04-01 2018-06-30   14175\n",
            "MERCY ST FRANCIS HOSPITAL                         2015-07-01 2018-06-30      60\n",
            "MISSOURI BAPTIST MEDICAL CENTER                   2015-04-01 2018-06-30   62915\n",
            "MISSOURI BAPTIST SULLIVAN HOSPITAL                2015-07-01 2018-06-30     275\n",
            "MISSOURI DELTA MEDICAL CENTER                     2015-04-01 2018-06-30   11091\n",
            "MOBERLY REGIONAL MEDICAL CENTER                   2015-04-01 2018-06-30    3860\n",
            "MOSAIC LIFE CARE AT ST JOSEPH                     2015-04-01 2018-06-30   54860\n",
            "MOSAIC MEDICAL CENTER - MARYVILLE                 2015-04-01 2018-06-30    2477\n",
            "MOSAIC MEDICAL CENTER ALBANY                      2015-07-01 2018-06-30     117\n",
            "NEVADA REGIONAL MEDICAL CENTER                    2015-07-01 2018-06-30    2001\n",
            "NORTH KANSAS CITY HOSPITAL                        2015-04-01 2018-06-30   61446\n",
            "NORTHEAST REGIONAL MEDICAL CENTER                 2015-04-01 2018-06-30    7736\n",
            "OZARKS MEDICAL CENTER                             2015-04-01 2018-06-30   13697\n",
            "PARKLAND HEALTH CENTER                            2015-04-01 2018-06-30    9731\n",
            "PEMISCOT COUNTY MEMORIAL HOSPITAL                 2015-07-01 2018-06-30    3891\n",
            "PERRY COUNTY MEMORIAL HOSPITAL                    2015-04-01 2018-06-30     488\n",
            "PERSHING MEMORIAL HOSPITAL                        2015-07-01 2018-06-30     179\n",
            "PHELPS HEALTH                                     2015-04-01 2018-06-30   16014\n",
            "PIKE COUNTY MEMORIAL HOSPITAL                     2015-07-01 2018-06-30     211\n",
            "POPLAR BLUFF REGIONAL MEDICAL CENTER              2015-04-01 2018-06-30   25166\n",
            "POPLAR BLUFF VA MEDICAL CENTER                    2015-07-01 2018-06-30     226\n",
            "PROGRESS WEST HOSPITAL                            2015-04-01 2018-06-30    5931\n",
            "PUTNAM COUNTY MEMORIAL HOSPITAL                   2015-07-01 2018-06-30      71\n",
            "RAY COUNTY MEMORIAL HOSPITAL                      2015-07-01 2018-06-30     204\n",
            "RESEARCH MEDICAL CENTER                           2015-04-01 2018-06-30   32514\n",
            "SAINT FRANCIS MEDICAL CENTER                      2015-04-01 2018-06-30   45199\n",
            "SAINT LUKE'S EAST HOSPITAL                        2015-04-01 2018-06-30   35865\n",
            "SAINT LUKES NORTH HOSPITAL                        2015-04-01 2018-06-30   15695\n",
            "SALEM MEMORIAL DISTRICT HOSPITAL                  2015-07-01 2018-06-30     339\n",
            "SCOTLAND COUNTY  HOSPITAL                         2015-07-01 2018-06-30     117\n",
            "SOUTHEASTHEALTH                                   2015-04-01 2018-06-30   33762\n",
            "SOUTHEASTHEALTH CENTER OF STODDARD COUNTY         2015-07-01 2018-06-30    2810\n",
            "SSM HEALTH DEPAUL HOSPITAL ST LOUIS               2015-04-01 2018-06-30   51585\n",
            "SSM HEALTH SAINT JOSEPH HOSPITAL-LAKE SAINT LOUIS 2015-04-01 2018-06-30   24239\n",
            "SSM HEALTH SAINT LOUIS UNIVERSITY HOSPITAL        2015-07-01 2018-06-30   29630\n",
            "SSM HEALTH ST CLARE HOSPITAL - FENTON             2015-04-01 2018-06-30   28080\n",
            "SSM HEALTH ST JOSEPH HOSPITAL-ST CHARLES          2015-04-01 2018-06-30   23443\n",
            "SSM HEALTH ST MARY'S HOSPITAL - ST LOUIS          2015-04-01 2018-06-30   26998\n",
            "SSM HEALTH ST. MARY'S HOSPITAL - JEFFERSON CITY   2015-04-01 2018-06-30   20531\n",
            "SSM HEALTH ST. MARY'S HOSPITAL-AUDRAIN            2015-04-01 2018-06-30    5543\n",
            "ST ALEXIUS HOSPITAL                               2015-07-01 2018-06-30    5712\n",
            "ST JOSEPH MEDICAL CENTER                          2015-04-01 2018-06-30   22538\n",
            "ST LOUIS-JOHN COCHRAN VA MEDICAL CENTER           2015-07-01 2018-06-30    1062\n",
            "ST LUKE'S DES PERES HOSPITAL                      2015-04-01 2018-06-30   13142\n",
            "ST LUKES HOSPITAL                                 2015-04-01 2018-06-30   52987\n",
            "ST LUKES HOSPITAL OF KANSAS CITY                  2015-04-01 2018-06-30   58487\n",
            "ST MARY'S MEDICAL CENTER                          2015-04-01 2018-06-30   13610\n",
            "STE GENEVIEVE COUNTY MEMORIAL HOSPITAL            2015-04-01 2018-06-30     291\n",
            "SULLIVAN COUNTY MEMORIAL HOSPITAL                 2015-07-01 2018-06-30      40\n",
            "TEXAS COUNTY MEMORIAL HOSPITAL                    2015-07-01 2018-06-30    3609\n",
            "TRUMAN MEDICAL CENTER HOSPITAL HILL               2015-07-01 2018-06-30   11725\n",
            "TRUMAN MEDICAL CENTER LAKEWOOD                    2015-04-01 2018-06-30    4297\n",
            "UNIVERSITY OF MISSOURI HEALTH CARE                2015-04-01 2018-06-30   56493\n",
            "WASHINGTON COUNTY MEMORIAL HOSPITAL               2015-07-01 2018-06-30     220\n",
            "WESTERN MISSOURI MEDICAL CENTER                   2015-04-01 2018-06-30    7254\n",
            "WRIGHT MEMORIAL HOSPITAL                          2015-07-01 2018-06-30     198\n"
          ]
        },
        {
          "output_type": "stream",
          "name": "stderr",
          "text": [
            "<ipython-input-21-c696594c5d51>:11: SettingWithCopyWarning: \n",
            "A value is trying to be set on a copy of a slice from a DataFrame.\n",
            "Try using .loc[row_indexer,col_indexer] = value instead\n",
            "\n",
            "See the caveats in the documentation: https://pandas.pydata.org/pandas-docs/stable/user_guide/indexing.html#returning-a-view-versus-a-copy\n",
            "  mo_hospitals['Start Date'] = pd.to_datetime(mo_hospitals['Start Date'], errors='coerce')\n",
            "<ipython-input-21-c696594c5d51>:12: SettingWithCopyWarning: \n",
            "A value is trying to be set on a copy of a slice from a DataFrame.\n",
            "Try using .loc[row_indexer,col_indexer] = value instead\n",
            "\n",
            "See the caveats in the documentation: https://pandas.pydata.org/pandas-docs/stable/user_guide/indexing.html#returning-a-view-versus-a-copy\n",
            "  mo_hospitals['End Date'] = pd.to_datetime(mo_hospitals['End Date'], errors='coerce')\n"
          ]
        }
      ],
      "source": [
        "import pandas as pd\n",
        "\n",
        "# Load the data\n",
        "file_path = '/content/complications_all.csv'\n",
        "data = pd.read_csv(file_path)\n",
        "\n",
        "# Filter to only contain hospitals from Missouri (MO)\n",
        "mo_hospitals = data[data['State'] == 'MO']\n",
        "\n",
        "# Convert 'Start Date' and 'End Date' to datetime fields\n",
        "mo_hospitals['Start Date'] = pd.to_datetime(mo_hospitals['Start Date'], errors='coerce')\n",
        "mo_hospitals['End Date'] = pd.to_datetime(mo_hospitals['End Date'], errors='coerce')\n",
        "\n",
        "# Remove records where 'Denominator' is 'Not Available' and convert it to numeric\n",
        "mo_hospitals = mo_hospitals[mo_hospitals['Denominator'] != 'Not Available']\n",
        "mo_hospitals['Denominator'] = pd.to_numeric(mo_hospitals['Denominator'], errors='coerce')\n",
        "\n",
        "# Aggregate the data to ensure the shape (108, 3) and set 'Facility Name' as the index\n",
        "mo_summary = mo_hospitals.groupby('Facility Name').agg(\n",
        "    start_date=('Start Date', 'min'),\n",
        "    end_date=('End Date', 'max'),\n",
        "    number=('Denominator', 'sum')\n",
        ").reset_index().set_index('Facility Name')[['start_date', 'end_date', 'number']]\n",
        "\n",
        "# Display the result\n",
        "print(mo_summary.to_string())\n",
        "\n",
        "\n",
        "\n",
        "\n"
      ]
    },
    {
      "cell_type": "code",
      "execution_count": 22,
      "metadata": {
        "id": "s1bNrZkRgdKi"
      },
      "outputs": [],
      "source": [
        "assert(mo_summary['number'].sum() == 1766908)\n",
        "assert(mo_summary['start_date'].min() == pd.Timestamp(2015,4,1))\n",
        "assert(mo_summary['end_date'].max() == pd.Timestamp(2018,6,30))\n",
        "assert(mo_summary.shape == (108,3))\n",
        "assert(mo_summary.loc['BARNES JEWISH HOSPITAL'].number == 131313)\n",
        "assert(mo_summary.loc['BOONE HOSPITAL CENTER'].number == 63099)"
      ]
    },
    {
      "cell_type": "markdown",
      "metadata": {
        "id": "QMOFts_pgdKi"
      },
      "source": [
        "---\n",
        "\n",
        "### 47.2 Planning your final project\n",
        "\n",
        "You should be thinking about the things we've been learning and how you can apply them to your final project.  Use the rubric to help guid your thinking and then answer the questions below.  This is meant as a guide to help you think through what you will do."
      ]
    },
    {
      "cell_type": "markdown",
      "metadata": {
        "id": "bVLS4ebUgdKi"
      },
      "source": [
        "#### A) Data Access\n",
        "\n",
        "Your project should include data from at least three distinct types of sources.  For example: AWS S3, Relational Databases, Internet, Web Services, local files.  List what data sources you're planning to use."
      ]
    },
    {
      "cell_type": "markdown",
      "metadata": {
        "id": "vwzqHzUNgdKj"
      },
      "source": [
        "**Double-click to enter your answer**\n",
        "\n",
        "Put your answer here\n",
        "\n",
        "For my project, I plan to use data from the following three distinct types of sources:\n",
        "\n",
        "AWS S3:\n",
        "\n",
        "In case my final project have large datasets or any streaming data. AWS S3 is flexible source and it integrates well with various analytical tools.\n",
        "\n",
        "Web Services:\n",
        "\n",
        " web services will provide real-time data from exteernal sources like weather, healthcare trends, financial data. By adding relevant information.\n",
        "\n",
        " Local files:\n",
        "\n",
        " Storing the final project in local files (CSV, Excel, JSON) saves you for offline work as the final project may contain any pre-existing data or files from prior analyses if it exists.\n"
      ]
    },
    {
      "cell_type": "markdown",
      "metadata": {
        "id": "GK2TpAZdgdKj"
      },
      "source": [
        "#### B. Data Formats\n",
        "\n",
        "Your project should include data that comes in different file formats.  For example: HL7, EDI, HTML, CSV, Excel, JSON, XML.  List what data formats you're planning to use."
      ]
    },
    {
      "cell_type": "markdown",
      "metadata": {
        "id": "HhqhoqtwgdKj"
      },
      "source": [
        "**Double-click to enter your answer**\n",
        "\n",
        "Put your answer here\n",
        "\n",
        "For my project, I plan to use the following data formats:\n",
        "\n",
        "CSV:\n",
        "\n",
        "This format is great as it can process, and even handle, structured and tabular data.\n",
        "\n",
        "Excel:\n",
        "\n",
        "If final project requires or contains some reports and manual data, then it definitely will have spreadsheet functionality.\n",
        "\n",
        "\n",
        "JSON:\n",
        "\n",
        "It is Useful for handling nested data from APIs or web services\n",
        "\n",
        "These above 3 data formats will manage structureed and semi-structured data\n"
      ]
    },
    {
      "cell_type": "markdown",
      "metadata": {
        "id": "yeSTad3VgdKj"
      },
      "source": [
        "#### C. Objective\n",
        "\n",
        "What purpose would your project serve in a real work setting?  Take a couple of paragraphs to write down why this is an interesting product."
      ]
    },
    {
      "cell_type": "markdown",
      "metadata": {
        "id": "SfUe4L1WgdKj"
      },
      "source": [
        "**Double-click to enter your answer**\n",
        "\n",
        "Put your answer here\n",
        "\n",
        "My final project, in real work environment, will cover as a comprehensive data integration and analysis tool which will merge multiple data sources and formats together final project would offer a flexible solution for handling complex data pipelines, in various sectors like healthcare, finance, and retail.\n",
        "\n",
        "project is particularly interesting because it demonstrates the potential for scalable data solutions that accommodate varied data formats like CSV, JSON, and Excel. many companies are struggling with real-time data integration due to diconnected storage systems from data sources moreover real time data from differnt distinct data sources can potentially support decision making companies to be proactive in their strategy.\n",
        "\n",
        "\n",
        "\n",
        "\n",
        "\n",
        "\n"
      ]
    },
    {
      "cell_type": "markdown",
      "metadata": {
        "id": "pseQ0WU8gdKj"
      },
      "source": [
        "\n",
        "\n",
        "---\n",
        "\n",
        "\n",
        "\n",
        "## Submit your work via GitHub as normal\n"
      ]
    }
  ],
  "metadata": {
    "kernelspec": {
      "display_name": "Python 3",
      "language": "python",
      "name": "python3"
    },
    "language_info": {
      "codemirror_mode": {
        "name": "ipython",
        "version": 3
      },
      "file_extension": ".py",
      "mimetype": "text/x-python",
      "name": "python",
      "nbconvert_exporter": "python",
      "pygments_lexer": "ipython3",
      "version": "3.9.16"
    },
    "colab": {
      "provenance": [],
      "include_colab_link": true
    }
  },
  "nbformat": 4,
  "nbformat_minor": 0
}