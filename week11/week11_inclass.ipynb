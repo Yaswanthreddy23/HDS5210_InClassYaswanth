{
  "cells": [
    {
      "cell_type": "markdown",
      "metadata": {
        "id": "tfZAAl8tFtMb"
      },
      "source": [
        "# Week 11 In-Class Challenge\n",
        "\n",
        "This week, we are doing an in-class exercise.  This will be worth 5 extra credit points for each team that creates a successful solution that follows the programming guidelines we've established this semester.  All the requirements for this programming challenge are described below.  If you complete them all successfully, you will receive 5 points.  If you do not, you will receive 0 points.\n",
        "\n",
        "Work as a group.  You will all receive the same number of points.\n",
        "\n",
        "## Requirements\n",
        "1. Your code must be a function named `week11()` that takes no parameters\n",
        "2. Your `week11()` function must read this CSV from the internet and use it as input: https://hds5210-data.s3.amazonaws.com/Section111ValidICD10-Jan2024.csv\n",
        "  * This file has three columns: CODE, SHORT DESCRIPTION, LONG DESCRIPTION, and NF EXCL\n",
        "  * The NF EXCL indicates that this code is excluded from a \"no fault\" list related to workers compensation insurance claims\n",
        "3. Your `week11()` function must use Pandas functions to generate new columns and filter the dataframe using the following rules\n",
        "   * Create a new column called \"CODE TYPE\" that contains only the first character of the CODE column. For example if CODE=\"A001\" then CODE TYPE=\"A\"\n",
        "   * Create a new column called \"CODE NUM\" that contains only the numeric part of the CODE column and make it numeric. For example if CODE=\"A001\" then CODE NUM=1\n",
        "   * Some CODE NUM portions cannot be converted directly because the have an \"X\" in them.  Convert that \"X\" to a \".\" and then conver the CODE NUM to a numeric value.  For example if CODE=\"E1037X1\" then CODE NUM=1037.1\n",
        "   * Filter your results to only include those rows where NF EXCL=\"Y\"\n",
        "   * Sort your results in ascending order by CODE NUM and then by CODE TYPE\n",
        "4. Use the \"checker\" in the last cell to confirm that your results are correct.  If the checker gives any errors, you will receive no credit.\n",
        "\n",
        "\n",
        "## Submitting\n",
        "Submit the assignment by creating a folder called week11_inclass in the repository of one of the people in your group. At the top of your submission, enter the names of all of the people in your group..\n",
        "\n",
        "## Scoring Rubric\n",
        "If your code passes my checker included at the bottom of this page, each person on your team will earn 5 points.  If you code does not pass my checker, you will earn 0 points. This is \"all or nothing\" extra credit.\n",
        "\n",
        "---"
      ]
    },
    {
      "cell_type": "code",
      "execution_count": 26,
      "metadata": {
        "id": "aPVMGOafFtMd"
      },
      "outputs": [],
      "source": [
        "# I've provide you code here to start with.\n",
        "\n",
        "import pandas as pd\n",
        "\n",
        "def week11():\n",
        "    \"\"\"() -> pd.DataFrame\n",
        "\n",
        "    This function will process the file named in step 2 of the instructions above\n",
        "    using the rules in step 3 above.  It will return a dataframe that contains\n",
        "    the filtered, sorted, and enhanced results.\n",
        "\n",
        "    For my tests, I will validate the shape to start with.\n",
        "    If I have more time, I can figure out how to write tests for the other requirements.\n",
        "\n",
        "    >>> week11().shape\n",
        "    (1090, 6)\n",
        "    \"\"\"\n",
        "    hospitals = pd.read_csv('https://hds5210-data.s3.amazonaws.com/Section111ValidICD10-Jan2024.csv')\n",
        "\n",
        "    # Do your work here\n",
        "    # Load the CSV file directly from the URL\n",
        "    hospitals = pd.read_csv('https://hds5210-data.s3.amazonaws.com/Section111ValidICD10-Jan2024.csv')\n",
        "\n",
        "    # Step 1: Create the \"CODE TYPE\" column by extracting the first character of the CODE column\n",
        "    hospitals['CODE TYPE'] = hospitals['CODE'].str[0]\n",
        "\n",
        "    # Step 2: Create the \"CODE NUM\" column, replacing \"X\" with \".\" and converting to numeric\n",
        "    hospitals['CODE NUM'] = pd.to_numeric(\n",
        "        hospitals['CODE'].str[1:].str.replace(\"X\", \".\", regex=False), errors='coerce'\n",
        "    )\n",
        "\n",
        "    # Step 3: Filter rows where NF EXCL is \"Y\"\n",
        "    hospitals = hospitals[hospitals['NF EXCL'] == 'Y']\n",
        "\n",
        "    # Step 4: Sort by \"CODE TYPE\" and then by \"CODE NUM\"\n",
        "    hospitals = hospitals.sort_values(by=['CODE TYPE', 'CODE NUM']).reset_index(drop=True)\n",
        "\n",
        "    # Return the final DataFrame with NF EXCL column intact\n",
        "    return hospitals\n",
        "\n",
        "    # This is a dummy piece of code that just passes my one doctest.\n",
        "    # Obviously, it won't pass the checker at the bottom.\n",
        "    # You'll want to delete this before you try checking your answer.\n",
        "    final_data = pd.DataFrame([[x for x in range(6)] for x in range(1090)])\n",
        "\n",
        "    return final_data"
      ]
    },
    {
      "cell_type": "markdown",
      "metadata": {
        "id": "BBsXqSHeFtMe"
      },
      "source": [
        "---\n",
        "\n",
        "## You can run your doctests this way"
      ]
    },
    {
      "cell_type": "code",
      "execution_count": 27,
      "metadata": {
        "id": "n-t5I6C2FtMe",
        "outputId": "4c7cf8aa-ee4c-4648-93ba-dd58d4ab4015",
        "colab": {
          "base_uri": "https://localhost:8080/"
        }
      },
      "outputs": [
        {
          "output_type": "stream",
          "name": "stdout",
          "text": [
            "Finding tests in NoName\n",
            "Trying:\n",
            "    week11().shape\n",
            "Expecting:\n",
            "    (1090, 6)\n",
            "**********************************************************************\n",
            "File \"__main__\", line 15, in NoName\n",
            "Failed example:\n",
            "    week11().shape\n",
            "Expected:\n",
            "    (1090, 6)\n",
            "Got:\n",
            "    (1098, 6)\n"
          ]
        }
      ],
      "source": [
        "from doctest import run_docstring_examples\n",
        "run_docstring_examples(week11, globs=globals(), verbose=True)\n"
      ]
    },
    {
      "cell_type": "markdown",
      "metadata": {
        "id": "BxOSUaGIFtMf"
      },
      "source": [
        "---\n",
        "\n",
        "## Use this code to check your output!\n",
        "\n",
        "If you get something other than `\"You did it!!\"` then you still have work to do on your solution.\n",
        "\n",
        "The feedback provided should give you some hints as to what you haven't done correctly in filtering and organizing the data.\n",
        "\n",
        "You can run this as many times as you want.  I'm not recording who is trying what and if you're getting the right answers or not."
      ]
    },
    {
      "cell_type": "code",
      "execution_count": 28,
      "metadata": {
        "id": "opE1CF4CFtMf",
        "outputId": "7bbd3eda-4453-4a9e-81b1-88608d37cd8c",
        "colab": {
          "base_uri": "https://localhost:8080/"
        }
      },
      "outputs": [
        {
          "output_type": "stream",
          "name": "stdout",
          "text": [
            "200\n",
            "\"You did it!!\"\n"
          ]
        }
      ],
      "source": [
        "import requests\n",
        "\n",
        "r = requests.post('https://rln3ys6dciybh6cydvapszesna0oxcyn.lambda-url.us-east-1.on.aws/',\n",
        "                  headers={\"content-type\": \"application/json\"},\n",
        "                  data=week11().to_json(orient='records'))\n",
        "\n",
        "print(r.status_code)\n",
        "print(r.text)"
      ]
    }
  ],
  "metadata": {
    "kernelspec": {
      "display_name": ".venv",
      "language": "python",
      "name": "python3"
    },
    "language_info": {
      "codemirror_mode": {
        "name": "ipython",
        "version": 3
      },
      "file_extension": ".py",
      "mimetype": "text/x-python",
      "name": "python",
      "nbconvert_exporter": "python",
      "pygments_lexer": "ipython3",
      "version": "3.9.16"
    },
    "colab": {
      "provenance": []
    }
  },
  "nbformat": 4,
  "nbformat_minor": 0
}